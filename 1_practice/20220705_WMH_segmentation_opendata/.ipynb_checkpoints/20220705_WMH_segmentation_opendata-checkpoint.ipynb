{
 "cells": [
  {
   "cell_type": "code",
   "execution_count": 2,
   "metadata": {},
   "outputs": [],
   "source": [
    "import nibabel as nib\n",
    "import numpy as np \n",
    "import matplotlib.pyplot as plt\n",
    "import pandas as pd\n",
    "import os\n",
    "import seaborn as sns\n",
    "\n",
    "if not os.path.exists('result'):\n",
    "    os.makedirs('result')"
   ]
  },
  {
   "cell_type": "code",
   "execution_count": 188,
   "metadata": {},
   "outputs": [
    {
     "data": {
      "text/html": [
       "<div>\n",
       "<style scoped>\n",
       "    .dataframe tbody tr th:only-of-type {\n",
       "        vertical-align: middle;\n",
       "    }\n",
       "\n",
       "    .dataframe tbody tr th {\n",
       "        vertical-align: top;\n",
       "    }\n",
       "\n",
       "    .dataframe thead th {\n",
       "        text-align: right;\n",
       "    }\n",
       "</style>\n",
       "<table border=\"1\" class=\"dataframe\">\n",
       "  <thead>\n",
       "    <tr style=\"text-align: right;\">\n",
       "      <th></th>\n",
       "      <th>ID</th>\n",
       "      <th>Model</th>\n",
       "    </tr>\n",
       "  </thead>\n",
       "  <tbody>\n",
       "    <tr>\n",
       "      <th>0</th>\n",
       "      <td>0</td>\n",
       "      <td>Utrecht</td>\n",
       "    </tr>\n",
       "    <tr>\n",
       "      <th>1</th>\n",
       "      <td>2</td>\n",
       "      <td>Utrecht</td>\n",
       "    </tr>\n",
       "    <tr>\n",
       "      <th>2</th>\n",
       "      <td>4</td>\n",
       "      <td>Utrecht</td>\n",
       "    </tr>\n",
       "    <tr>\n",
       "      <th>3</th>\n",
       "      <td>6</td>\n",
       "      <td>Utrecht</td>\n",
       "    </tr>\n",
       "    <tr>\n",
       "      <th>4</th>\n",
       "      <td>8</td>\n",
       "      <td>Utrecht</td>\n",
       "    </tr>\n",
       "  </tbody>\n",
       "</table>\n",
       "</div>"
      ],
      "text/plain": [
       "   ID    Model\n",
       "0   0  Utrecht\n",
       "1   2  Utrecht\n",
       "2   4  Utrecht\n",
       "3   6  Utrecht\n",
       "4   8  Utrecht"
      ]
     },
     "execution_count": 188,
     "metadata": {},
     "output_type": "execute_result"
    }
   ],
   "source": []
  },
  {
   "cell_type": "code",
   "execution_count": 166,
   "metadata": {},
   "outputs": [],
   "source": [
    "def load_nii(df, img_type_list=['BIANCA', 'LGA', 'LPA', 'SPM12', 'Label']):\n",
    "    dict_img = dict()\n",
    "    dict_img['ID'] = df['ID']\n",
    "    dict_img['Model'] = df['Model']\n",
    "    for img_type in img_type_list:\n",
    "        _img = []\n",
    "        for subj_id in df['ID']:\n",
    "            img_path = \"data/2_prep/{}/{}_RS.nii.gz\".format(img_type, subj_id)\n",
    "            _img.append(nib.load(img_path).get_fdata())\n",
    "        dict_img[img_type] = _img\n",
    "    return dict_img\n",
    "\n",
    "def dice_coff(x, y):\n",
    "    x = x.reshape(-1)\n",
    "    y = y.reshape(-1)\n",
    "    return 2 * np.sum(((x==y)&(x==1)&(y==1)) / float(sum(map(len, (x[x==1], y[y==1])))))\n",
    "\n",
    "def calc_dice_coff(dict_img_data, img_type_list=['BIANCA', 'LGA', 'LPA', 'SPM12']):\n",
    "    dice_coff_dict = dict()\n",
    "    dice_coff_dict['ID'] = dict_img_data['ID']\n",
    "    dice_coff_dict['Model'] = dict_img_data['Model']\n",
    "    for img_type in image_type_list:\n",
    "        _dice_coff_list = []\n",
    "        for i in range(len(df)):\n",
    "            _dice_coff_list.append(dice_coff(img_data[img_type][i], img_data['Label'][i]))\n",
    "        dice_coff_dict[img_type] = _dice_coff_list\n",
    "    return dice_coff_dict\n",
    "            \n",
    "\n",
    "def plot_Dice_thr(dict_img_data, img_type_list=['BIANCA', 'LGA', 'LPA', 'SPM12'], thr_list=np.arange(0,1.05,0.05)):\n",
    "    dict_dice_data = dict()\n",
    "    dict_dice_data['Thr'] = thr_list\n",
    "    for img_type in img_type_list:\n",
    "        label = np.array(dict_img_data['Label'])\n",
    "        _dice_coff_list = []\n",
    "        for thr in thr_list:\n",
    "            _img = np.where(dict_img_data[img_type] < thr, 0, 1)\n",
    "            _dice_coff_list.append(dice_coff(_img.reshape(-1), label.reshape(-1)))\n",
    "        dict_dice_data[img_type] = _dice_coff_list\n",
    "    df_dice = pd.DataFrame(dict_dice_data)\n",
    "    df_dice.to_csv('result/optimize_DSC_thr.csv', index=False)\n",
    "    \n",
    "    # Plot\n",
    "    df_dice_melt = pd.melt(df_dice, \n",
    "            id_vars='Thr', \n",
    "            var_name='Software', \n",
    "            value_name='DSC', \n",
    "            col_level=None)\n",
    "    sns.relplot(x='Thr', y='DSC', hue='Software', data=df_dice_melt, kind='line', markers=True, dashes=False)\n",
    "    plt.show()\n",
    "    \n",
    "    # Optimal value\n",
    "    for software in df_dice.columns[1:]:\n",
    "        _df_dice_max = df_dice.loc[df_dice[software]==df_dice[software].max(), ['Thr', software]]\n",
    "        print(\"{}, DSC(optimal cutoff): {:.3f} ({:.3f})\".format(software, _df_dice_max[software].values[0], _df_dice_max['Thr'].values[0]))\n",
    "    return df_dice"
   ]
  },
  {
   "cell_type": "code",
   "execution_count": 165,
   "metadata": {},
   "outputs": [],
   "source": [
    "filename = 'data/data_list.csv'\n",
    "df = pd.read_csv(filename)\n",
    "img_data = load_nii(df)"
   ]
  },
  {
   "cell_type": "code",
   "execution_count": 167,
   "metadata": {
    "scrolled": true
   },
   "outputs": [],
   "source": [
    "# Calc DSC\n",
    "df_dice = plot_Dice_thr(img_data)\n",
    "# df_dice.head()"
   ]
  },
  {
   "cell_type": "code",
   "execution_count": 171,
   "metadata": {},
   "outputs": [
    {
     "data": {
      "image/png": "[encoded data removed]",
      "text/plain": [
       "<Figure size 433.875x360 with 1 Axes>"
      ]
     },
     "metadata": {},
     "output_type": "display_data"
    }
   ],
   "source": []
  },
  {
   "cell_type": "code",
   "execution_count": 187,
   "metadata": {},
   "outputs": [
    {
     "name": "stdout",
     "output_type": "stream",
     "text": [
      "BIANCA, DSC(optimal cutoff): 0.753 (0.950)\n",
      "LGA, DSC(optimal cutoff): 0.143 (0.050)\n",
      "LPA, DSC(optimal cutoff): 0.740 (0.600)\n",
      "SPM12, DSC(optimal cutoff): 0.116 (0.100)\n"
     ]
    }
   ],
   "source": []
  }
 ],
 "metadata": {
  "kernelspec": {
   "display_name": "Python 3",
   "language": "python",
   "name": "python3"
  },
  "language_info": {
   "codemirror_mode": {
    "name": "ipython",
    "version": 3
   },
   "file_extension": ".py",
   "mimetype": "text/x-python",
   "name": "python",
   "nbconvert_exporter": "python",
   "pygments_lexer": "ipython3",
   "version": "3.6.9"
  }
 },
 "nbformat": 4,
 "nbformat_minor": 2
}
