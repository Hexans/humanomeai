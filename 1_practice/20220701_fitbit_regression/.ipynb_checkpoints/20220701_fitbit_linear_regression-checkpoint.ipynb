{
 "cells": [
  {
   "cell_type": "markdown",
   "metadata": {},
   "source": [
    "## Import library"
   ]
  },
  {
   "cell_type": "code",
   "execution_count": 101,
   "metadata": {},
   "outputs": [],
   "source": [
    "import os\n",
    "import glob\n",
    "import natsort\n",
    "import numpy as np\n",
    "import pandas as pd\n",
    "import matplotlib.pyplot as plt\n",
    "from sklearn.linear_model import LinearRegression\n",
    "from sklearn.model_selection import train_test_split\n",
    "from sklearn.metrics import r2_score, accuracy_score\n",
    "import copy\n",
    "import datetime\n",
    "import json\n",
    "from ast import literal_eval\n",
    "from sklearn.metrics import mean_absolute_error\n",
    "from sklearn.metrics import classification_report\n",
    "from sklearn.metrics import roc_curve\n",
    "from sklearn.metrics import auc\n",
    "from sklearn.metrics import roc_auc_score\n",
    "from sklearn.metrics import confusion_matrix\n",
    "import seaborn as sns"
   ]
  },
  {
   "cell_type": "markdown",
   "metadata": {},
   "source": [
    "## Define functions"
   ]
  },
  {
   "cell_type": "code",
   "execution_count": 25,
   "metadata": {},
   "outputs": [],
   "source": [
    "def get_Data_activity(dataPath, date, data_collection):\n",
    "\n",
    "    tmp_datetime = datetime.datetime.strptime(date, '%Y-%m-%d')\n",
    "\n",
    "    date_list = [tmp_datetime + datetime.timedelta(minutes=tmp) for tmp in range(1440)]\n",
    "    value_list = [0] * 1440\n",
    "    if 'time' not in data_collection:\n",
    "        data_collection['time'] = np.array([])\n",
    "        data_collection['value'] = np.array([])\n",
    "    data_collection['time'] = np.append(data_collection['time'], np.array(date_list))\n",
    "    data_collection['value'] = np.append(data_collection['value'], np.array(value_list))\n",
    "\n",
    "    with open(dataPath) as f:\n",
    "        s = f.read()\n",
    "\n",
    "    if s != '':\n",
    "        tmp_s = s.replace(\"'\", '\"')\n",
    "        tmpData = json.loads(tmp_s)\n",
    "\n",
    "        kindOfData = 'activities-heart-intraday'  \n",
    "        if kindOfData in tmpData:\n",
    "            for oneMinute_data in tmpData[kindOfData]['dataset']:\n",
    "                tmp = datetime.datetime.strptime(date + ' ' + oneMinute_data['time'], '%Y-%m-%d %H:%M:%S')\n",
    "                data_collection['value'][data_collection['time'] == tmp] = oneMinute_data['value']\n",
    "\n",
    "    return data_collection\n",
    "\n",
    "def get_Data_sleep(dataPath, data_collection):\n",
    "\n",
    "    with open(dataPath) as f:\n",
    "        s = f.read()\n",
    "\n",
    "    tmp_s = s.replace(\"'\", '\"')\n",
    "    tmp_s = tmp_s.replace('True', '\"True\"')\n",
    "    tmp_s = tmp_s.replace('False', '\"False\"')\n",
    "    tmpData = json.loads(tmp_s)\n",
    "\n",
    "    if tmpData['sleep'] != []:\n",
    "        for ii in range(len(tmpData['sleep'])):\n",
    "            for sleep_data in tmpData['sleep'][ii]['levels']['data']:\n",
    "                duration_minutes = sleep_data['seconds'] // 60\n",
    "                start_datetime = datetime.datetime.strptime(sleep_data['dateTime'].split('.000')[0], '%Y-%m-%dT%H:%M:%S')\n",
    "\n",
    "                for minute in range(duration_minutes):\n",
    "                    tmp_datetime = start_datetime + datetime.timedelta(minutes=minute)\n",
    "                    hour_min = datetime.datetime(tmp_datetime.year, tmp_datetime.month, tmp_datetime.day, tmp_datetime.hour, tmp_datetime.minute)\n",
    "\n",
    "                    data_collection['sleep'][data_collection['time'] == hour_min] = int(1)\n",
    "\n",
    "    return data_collection\n",
    "\n",
    "\n",
    "def get_sleep_hr(data_collection, sleep=True, all=False):\n",
    "    time = data_collection['time']\n",
    "    hr_value = data_collection['value']\n",
    "    sleep_flg = data_collection['sleep']\n",
    "    \n",
    "    df = pd.DataFrame(np.array([time, hr_value, sleep_flg]).T, columns=[\"time\", \"hr_value\", \"sleep_flg\"])\n",
    "    \n",
    "    if not all:\n",
    "        if sleep:\n",
    "            df = df[df[\"sleep_flg\"]==1]\n",
    "        else:\n",
    "            df = df[df[\"sleep_flg\"]==0]\n",
    "    \n",
    "    return df\n",
    "\n",
    "def get_sleep_hr_data(hr_data_paths, sleep_data_paths):\n",
    "\n",
    "    data_collection = dict()\n",
    "    for hr_data_path in hr_data_paths:\n",
    "        date = os.path.basename(hr_data_path).split('.txt')[0]\n",
    "        data_collection = get_Data_activity(hr_data_path, date, data_collection)\n",
    "    \n",
    "    start_datetime = datetime.datetime.strptime(os.path.basename(sleep_data_paths[0]).split('.txt')[0], '%Y-%m-%d')\n",
    "    end_datetime = datetime.datetime.strptime(os.path.basename(sleep_data_paths[-1]).split('.txt')[0], '%Y-%m-%d') + datetime.timedelta(days=1)\n",
    "    data_collection['sleep'] = np.array([0] * 1440 * (end_datetime - start_datetime).days)\n",
    "\n",
    "    sleep_start_end_datetime = dict()\n",
    "    for sleep_data_path in sleep_data_paths:\n",
    "        try:\n",
    "            data_collection = get_Data_sleep(sleep_data_path, data_collection)\n",
    "            date = datetime.datetime.strptime(os.path.basename(sleep_data_path).split('.txt')[0], '%Y-%m-%d')\n",
    "            with open(sleep_data_path) as file:\n",
    "                data_text = file.read()\n",
    "            tmp_s = data_text.replace(\"'\", '\"')\n",
    "            tmp_s = tmp_s.replace('true', '\"True\"')\n",
    "            tmp_s = tmp_s.replace('false', '\"False\"')\n",
    "            data_dict = json.loads(tmp_s)\n",
    "            start_time = data_dict['sleep'][0]['startTime'].split('.')[0]\n",
    "            end_time = data_dict['sleep'][0]['endTime'].split('.')[0]\n",
    "            start_datetime = datetime.datetime.strptime(start_time, '%Y-%m-%dT%H:%M:%S')\n",
    "            end_datetime = datetime.datetime.strptime(end_time, '%Y-%m-%dT%H:%M:%S')\n",
    "\n",
    "            sleep_start_end_datetime[date] = {'start':start_datetime, 'end':end_datetime}\n",
    "        except:\n",
    "            pass\n",
    "    df = pd.DataFrame()\n",
    "    df['time'] = data_collection['time']\n",
    "    df['hr_value'] = data_collection['value']\n",
    "    df['sleep_flg'] = data_collection['sleep']\n",
    "\n",
    "    return df, sleep_start_end_datetime\n",
    "\n",
    "def get_RHR(hr_data_paths):\n",
    "    date_list = []\n",
    "    rhr_list = []\n",
    "\n",
    "    for hr_data_path in hr_data_paths:\n",
    "        #Get date\n",
    "        date = datetime.datetime.strptime(os.path.basename(hr_data_path).split('.txt')[0], '%Y-%m-%d')\n",
    "        #Get RHR value\n",
    "        with open(hr_data_path) as file:\n",
    "            hr_data_text = file.read()\n",
    "        try:\n",
    "            hr_data_dict = literal_eval(hr_data_text)\n",
    "            rhr_value = hr_data_dict['activities-heart'][0]['value']['restingHeartRate']\n",
    "            rhr_list.append(rhr_value)\n",
    "            date_list.append(date)\n",
    "        except:\n",
    "            pass\n",
    "    #Create RHR data frame and output the data frame as csv\n",
    "    df_rhr = pd.DataFrame()\n",
    "    df_rhr['Date'] = date_list\n",
    "    df_rhr['Date'] = pd.to_datetime(df_rhr['Date'])\n",
    "    df_rhr['RHR'] = rhr_list\n",
    "\n",
    "    return df_rhr\n",
    "\n",
    "#=========================\n",
    "# Get minimum heart rate during sleep per day\n",
    "#=========================\n",
    "def get_hr_min_per_day(sleep_data_paths, df_all_sleep_data):\n",
    "    #Get all sleep data\n",
    "    sleep_data = dict()\n",
    "    for sleep_data_path in sleep_data_paths:\n",
    "        date = os.path.basename(sleep_data_path).split('.txt')[0]\n",
    "        with open(sleep_data_path) as file:\n",
    "            data_text = file.read() \n",
    "        data_dict = literal_eval(data_text)\n",
    "        sleep_data[date] = data_dict\n",
    "\n",
    "    #Get start and end times of sleep per day\n",
    "    start_and_end_daitetime = dict()\n",
    "\n",
    "    for date, data in sleep_data.items():\n",
    "        try:\n",
    "            start_date = data['sleep'][0]['startTime'].split('T')[0]\n",
    "            end_date = data['sleep'][0]['endTime'].split('T')[0]\n",
    "            start_time = data['sleep'][0]['startTime'].split('T')[1].split('.')[0]\n",
    "            end_time = data['sleep'][0]['endTime'].split('T')[1].split('.')[0]\n",
    "            start_datetime = datetime.datetime.strptime(start_date + ' ' + start_time, '%Y-%m-%d %H:%M:%S')\n",
    "            end_datetime = datetime.datetime.strptime(end_date + ' ' + end_time, '%Y-%m-%d %H:%M:%S')\n",
    "\n",
    "            datetime_dict = dict()\n",
    "            datetime_dict['start'] = start_datetime\n",
    "            datetime_dict['end'] = end_datetime\n",
    "\n",
    "            start_and_end_daitetime[date] = datetime_dict\n",
    "        except IndexError as e:\n",
    "            print(f'Sleep data of {date} is missing.')\n",
    "    \n",
    "    #Get minimum heart rate during sleep per day\n",
    "    min_dict = dict()\n",
    "    \n",
    "    for date, time in start_and_end_daitetime.items():\n",
    "        start = time['start']\n",
    "        end = time['end']\n",
    "        sleep_hr_value = np.array(df_all_sleep_data.loc[start:end]['hr_value'])\n",
    "        sleep_hr_value_min = sleep_hr_value.min()\n",
    "        min_dict[date] = sleep_hr_value_min\n",
    "    \n",
    "    return min_dict"
   ]
  },
  {
   "cell_type": "markdown",
   "metadata": {},
   "source": [
    "## データセット構築・解析のための準備"
   ]
  },
  {
   "cell_type": "code",
   "execution_count": 18,
   "metadata": {},
   "outputs": [],
   "source": [
    "# 使用するデータのパスなどの設定\n",
    "file_path = 'analysis_data'\n",
    "fitbit_path = glob.glob(os.path.join(file_path, 'activities', '*'))\n",
    "hr_path = os.path.join(fitbit_path[0], 'hr')\n",
    "sleep_path = os.path.join(fitbit_path[0], 'sleep')\n",
    "\n",
    "# データファイルのパスを取得\n",
    "hr_data_paths = natsort.natsorted(glob.glob(os.path.join(hr_path, '*.txt')))\n",
    "sleep_data_paths = natsort.natsorted(glob.glob(os.path.join(sleep_path, '*.txt')))"
   ]
  },
  {
   "cell_type": "markdown",
   "metadata": {},
   "source": [
    "### Load RHR"
   ]
  },
  {
   "cell_type": "code",
   "execution_count": 30,
   "metadata": {},
   "outputs": [
    {
     "data": {
      "text/html": [
       "<div>\n",
       "<style scoped>\n",
       "    .dataframe tbody tr th:only-of-type {\n",
       "        vertical-align: middle;\n",
       "    }\n",
       "\n",
       "    .dataframe tbody tr th {\n",
       "        vertical-align: top;\n",
       "    }\n",
       "\n",
       "    .dataframe thead th {\n",
       "        text-align: right;\n",
       "    }\n",
       "</style>\n",
       "<table border=\"1\" class=\"dataframe\">\n",
       "  <thead>\n",
       "    <tr style=\"text-align: right;\">\n",
       "      <th></th>\n",
       "      <th>RHR</th>\n",
       "    </tr>\n",
       "    <tr>\n",
       "      <th>Date</th>\n",
       "      <th></th>\n",
       "    </tr>\n",
       "  </thead>\n",
       "  <tbody>\n",
       "    <tr>\n",
       "      <th>2022-06-05</th>\n",
       "      <td>65</td>\n",
       "    </tr>\n",
       "    <tr>\n",
       "      <th>2022-06-06</th>\n",
       "      <td>67</td>\n",
       "    </tr>\n",
       "    <tr>\n",
       "      <th>2022-06-07</th>\n",
       "      <td>69</td>\n",
       "    </tr>\n",
       "    <tr>\n",
       "      <th>2022-06-08</th>\n",
       "      <td>66</td>\n",
       "    </tr>\n",
       "    <tr>\n",
       "      <th>2022-06-09</th>\n",
       "      <td>65</td>\n",
       "    </tr>\n",
       "  </tbody>\n",
       "</table>\n",
       "</div>"
      ],
      "text/plain": [
       "            RHR\n",
       "Date           \n",
       "2022-06-05   65\n",
       "2022-06-06   67\n",
       "2022-06-07   69\n",
       "2022-06-08   66\n",
       "2022-06-09   65"
      ]
     },
     "execution_count": 30,
     "metadata": {},
     "output_type": "execute_result"
    }
   ],
   "source": [
    "df_analysis_data = get_RHR(hr_data_paths=hr_data_paths)\n",
    "df_analysis_data = df_analysis_data.set_index('Date')\n",
    "df_analysis_data.head()"
   ]
  },
  {
   "cell_type": "markdown",
   "metadata": {},
   "source": [
    "### Load HR during sleep"
   ]
  },
  {
   "cell_type": "code",
   "execution_count": 29,
   "metadata": {},
   "outputs": [
    {
     "data": {
      "text/html": [
       "<div>\n",
       "<style scoped>\n",
       "    .dataframe tbody tr th:only-of-type {\n",
       "        vertical-align: middle;\n",
       "    }\n",
       "\n",
       "    .dataframe tbody tr th {\n",
       "        vertical-align: top;\n",
       "    }\n",
       "\n",
       "    .dataframe thead th {\n",
       "        text-align: right;\n",
       "    }\n",
       "</style>\n",
       "<table border=\"1\" class=\"dataframe\">\n",
       "  <thead>\n",
       "    <tr style=\"text-align: right;\">\n",
       "      <th></th>\n",
       "      <th>hr_value</th>\n",
       "      <th>sleep_flg</th>\n",
       "    </tr>\n",
       "    <tr>\n",
       "      <th>time</th>\n",
       "      <th></th>\n",
       "      <th></th>\n",
       "    </tr>\n",
       "  </thead>\n",
       "  <tbody>\n",
       "    <tr>\n",
       "      <th>2022-06-03 00:00:00</th>\n",
       "      <td>0.0</td>\n",
       "      <td>0</td>\n",
       "    </tr>\n",
       "    <tr>\n",
       "      <th>2022-06-03 00:01:00</th>\n",
       "      <td>0.0</td>\n",
       "      <td>0</td>\n",
       "    </tr>\n",
       "    <tr>\n",
       "      <th>2022-06-03 00:02:00</th>\n",
       "      <td>0.0</td>\n",
       "      <td>0</td>\n",
       "    </tr>\n",
       "    <tr>\n",
       "      <th>2022-06-03 00:03:00</th>\n",
       "      <td>0.0</td>\n",
       "      <td>0</td>\n",
       "    </tr>\n",
       "    <tr>\n",
       "      <th>2022-06-03 00:04:00</th>\n",
       "      <td>0.0</td>\n",
       "      <td>0</td>\n",
       "    </tr>\n",
       "  </tbody>\n",
       "</table>\n",
       "</div>"
      ],
      "text/plain": [
       "                     hr_value  sleep_flg\n",
       "time                                    \n",
       "2022-06-03 00:00:00       0.0          0\n",
       "2022-06-03 00:01:00       0.0          0\n",
       "2022-06-03 00:02:00       0.0          0\n",
       "2022-06-03 00:03:00       0.0          0\n",
       "2022-06-03 00:04:00       0.0          0"
      ]
     },
     "execution_count": 29,
     "metadata": {},
     "output_type": "execute_result"
    }
   ],
   "source": [
    "df_hr, sleep_time = get_sleep_hr_data(hr_data_paths, sleep_data_paths)\n",
    "df_hr['time'] = pd.to_datetime(df_hr['time'])\n",
    "df_hr = df_hr.reset_index(drop=True)\n",
    "df_hr = df_hr.set_index('time')\n",
    "df_hr.head()"
   ]
  },
  {
   "cell_type": "markdown",
   "metadata": {},
   "source": [
    "## データセット構築"
   ]
  },
  {
   "cell_type": "code",
   "execution_count": 31,
   "metadata": {},
   "outputs": [],
   "source": [
    "def get_min_sleep_hr(sleep_time, df_hr, df_analysis_data):\n",
    "\n",
    "    # 取得されたデータの睡眠時心拍の抽出\n",
    "    tmp_df_sleep_hr = df_hr[df_hr['sleep_flg']==1]# df_hrを用いて睡眠中の心拍数を抽出\n",
    "    tmp_df_sleep_hr.drop(index=tmp_df_sleep_hr[tmp_df_sleep_hr['hr_value']==0].index, inplace=True)\n",
    "\n",
    "    # 1日ごとの睡眠時心拍の抽出し、1日ごｔの睡眠時心拍の最小値を導出\n",
    "    tmp_dict = dict()\n",
    "    for date in sleep_time:\n",
    "        start = sleep_time[date]['start']\n",
    "        end = sleep_time[date]['end']\n",
    "        sleep_hr = tmp_df_sleep_hr.loc[start:end, 'hr_value'].values\n",
    "        min_sleep_hr = np.min(sleep_hr)\n",
    "        tmp_dict[date] = min_sleep_hr\n",
    "\n",
    "    df_analysis_data['min_sleep_hr'] = [0] * len(df_analysis_data.index.tolist())\n",
    "    for date in tmp_dict:\n",
    "        df_analysis_data.loc[date, 'min_sleep_hr'] = tmp_dict[date]\n",
    "\n",
    "    return df_analysis_data"
   ]
  },
  {
   "cell_type": "code",
   "execution_count": 32,
   "metadata": {},
   "outputs": [
    {
     "name": "stderr",
     "output_type": "stream",
     "text": [
      "/home/neuro/.local/lib/python3.6/site-packages/pandas/core/frame.py:4174: SettingWithCopyWarning: \n",
      "A value is trying to be set on a copy of a slice from a DataFrame\n",
      "\n",
      "See the caveats in the documentation: https://pandas.pydata.org/pandas-docs/stable/user_guide/indexing.html#returning-a-view-versus-a-copy\n",
      "  errors=errors,\n"
     ]
    },
    {
     "data": {
      "text/html": [
       "<div>\n",
       "<style scoped>\n",
       "    .dataframe tbody tr th:only-of-type {\n",
       "        vertical-align: middle;\n",
       "    }\n",
       "\n",
       "    .dataframe tbody tr th {\n",
       "        vertical-align: top;\n",
       "    }\n",
       "\n",
       "    .dataframe thead th {\n",
       "        text-align: right;\n",
       "    }\n",
       "</style>\n",
       "<table border=\"1\" class=\"dataframe\">\n",
       "  <thead>\n",
       "    <tr style=\"text-align: right;\">\n",
       "      <th></th>\n",
       "      <th>RHR</th>\n",
       "      <th>min_sleep_hr</th>\n",
       "    </tr>\n",
       "    <tr>\n",
       "      <th>Date</th>\n",
       "      <th></th>\n",
       "      <th></th>\n",
       "    </tr>\n",
       "  </thead>\n",
       "  <tbody>\n",
       "    <tr>\n",
       "      <th>2022-06-05</th>\n",
       "      <td>65</td>\n",
       "      <td>55.0</td>\n",
       "    </tr>\n",
       "    <tr>\n",
       "      <th>2022-06-06</th>\n",
       "      <td>67</td>\n",
       "      <td>57.0</td>\n",
       "    </tr>\n",
       "    <tr>\n",
       "      <th>2022-06-07</th>\n",
       "      <td>69</td>\n",
       "      <td>65.0</td>\n",
       "    </tr>\n",
       "    <tr>\n",
       "      <th>2022-06-08</th>\n",
       "      <td>66</td>\n",
       "      <td>69.0</td>\n",
       "    </tr>\n",
       "    <tr>\n",
       "      <th>2022-06-09</th>\n",
       "      <td>65</td>\n",
       "      <td>54.0</td>\n",
       "    </tr>\n",
       "  </tbody>\n",
       "</table>\n",
       "</div>"
      ],
      "text/plain": [
       "            RHR  min_sleep_hr\n",
       "Date                         \n",
       "2022-06-05   65          55.0\n",
       "2022-06-06   67          57.0\n",
       "2022-06-07   69          65.0\n",
       "2022-06-08   66          69.0\n",
       "2022-06-09   65          54.0"
      ]
     },
     "execution_count": 32,
     "metadata": {},
     "output_type": "execute_result"
    }
   ],
   "source": [
    "df_analysis_data = get_min_sleep_hr(sleep_time, df_hr, df_analysis_data)\n",
    "df_analysis_data.head()"
   ]
  },
  {
   "cell_type": "markdown",
   "metadata": {},
   "source": [
    "## Visualize data"
   ]
  },
  {
   "cell_type": "code",
   "execution_count": 41,
   "metadata": {},
   "outputs": [],
   "source": [
    "def make_scatter_plot(df_analysis_data, save_path):\n",
    "    fig = plt.figure(figsize=(10,10))\n",
    "    ax = fig.add_subplot(1,1,1)\n",
    "    ax.scatter(x=df_analysis_data['min_sleep_hr'], y=df_analysis_data['RHR'], color='blue')\n",
    "    ax.set_xlabel('Minimum Value of Sleep HR', fontsize=20)\n",
    "    ax.set_ylabel('RHR', fontsize=20)\n",
    "    xrange = np.linspace(df_analysis_data['min_sleep_hr'].min(), df_analysis_data['min_sleep_hr'].max(), 100)\n",
    "    yrange = np.linspace(df_analysis_data['RHR'].min(), df_analysis_data['RHR'].max(), 100)\n",
    "    ax.plot(xrange, yrange, color='green')\n",
    "    plt.tight_layout()\n",
    "    plt.savefig(save_path)"
   ]
  },
  {
   "cell_type": "code",
   "execution_count": 42,
   "metadata": {},
   "outputs": [
    {
     "data": {
      "image/png": "[encoded data removed]",
      "text/plain": [
       "<Figure size 720x720 with 1 Axes>"
      ]
     },
     "metadata": {},
     "output_type": "display_data"
    }
   ],
   "source": [
    "save_path = 'analysis_results'\n",
    "if not os.path.exists(save_path):\n",
    "    os.makedirs(save_path)\n",
    "make_scatter_plot(df_analysis_data, os.path.join(save_path, 'min_sleepHR_RHR.png'))"
   ]
  },
  {
   "cell_type": "markdown",
   "metadata": {},
   "source": [
    "## Linear regression"
   ]
  },
  {
   "cell_type": "markdown",
   "metadata": {},
   "source": [
    "### Regression"
   ]
  },
  {
   "cell_type": "code",
   "execution_count": 44,
   "metadata": {},
   "outputs": [],
   "source": [
    "# 学習用データ、テストデータに分割\n",
    "X, y = df_analysis_data[['min_sleep_hr']].values, df_analysis_data[['RHR']].values\n",
    "X_train, X_test, y_train, y_test = train_test_split(X, y, test_size=0.2, random_state=0)  # 8:2にデータを分割"
   ]
  },
  {
   "cell_type": "code",
   "execution_count": 47,
   "metadata": {},
   "outputs": [
    {
     "name": "stdout",
     "output_type": "stream",
     "text": [
      "beta: 0.052\n",
      "beta0: 63.744\n"
     ]
    }
   ],
   "source": [
    "# 回帰直線の係数を導出\n",
    "LR = LinearRegression()\n",
    "LR.fit(X_train.reshape(-1, 1), y_train.reshape(-1, 1))\n",
    "beta, beta0 = LR.coef_[0][0], LR.intercept_[0]\n",
    "print(\"beta: {:.3f}\".format(beta))\n",
    "print(\"beta0: {:.3f}\".format(beta0))"
   ]
  },
  {
   "cell_type": "code",
   "execution_count": 80,
   "metadata": {},
   "outputs": [
    {
     "name": "stdout",
     "output_type": "stream",
     "text": [
      "(6,)\n"
     ]
    }
   ],
   "source": [
    "print(y_test.reshape(-1).shape)\n",
    "# r2_coff = r2_score(, y_train_pred.reshape(-1))"
   ]
  },
  {
   "cell_type": "code",
   "execution_count": 83,
   "metadata": {},
   "outputs": [
    {
     "data": {
      "image/png": "[encoded data removed]",
      "text/plain": [
       "<Figure size 720x720 with 1 Axes>"
      ]
     },
     "metadata": {},
     "output_type": "display_data"
    }
   ],
   "source": [
    "# 回帰直線を可視化\n",
    "xrange = np.linspace(np.min(X_train), np.max(X_train), 100)\n",
    "yrange = beta0 + beta * xrange\n",
    "y_train_pred = beta0 + beta * X_train\n",
    "r2_coff = r2_score(y_train.reshape(-1), y_train_pred.reshape(-1))\n",
    "fig = plt.figure(figsize=(10,10))\n",
    "ax = fig.add_subplot(1,1,1)\n",
    "ax.scatter(x=X_train, y=y_train, color='blue')\n",
    "ax.plot(xrange, yrange, color='green')\n",
    "ax.set_title(\"$R^2$: {:.3f}\".format(r2_coff), fontsize=30)\n",
    "ax.set_xlabel('Minimum Value of Sleep HR', fontsize=20)\n",
    "ax.set_ylabel('RHR', fontsize=20)\n",
    "plt.tight_layout()\n",
    "plt.savefig(os.path.join(save_path, 'ex_linear_reg_minSleepHR_RHR.png'))"
   ]
  },
  {
   "cell_type": "code",
   "execution_count": 66,
   "metadata": {},
   "outputs": [
    {
     "name": "stdout",
     "output_type": "stream",
     "text": [
      "True RHR: [69 66 68 68 64 67]\n",
      "Predicted RHR: [67.1 66.5 67.4 66.8 66.4 66.7]\n",
      "MAE: 1.17\n"
     ]
    }
   ],
   "source": [
    "# priceの推定\n",
    "y_pred = beta0 + beta * X_test\n",
    "mae = mean_absolute_error(y_test, y_pred) # calc MAE\n",
    "print(\"True RHR: {}\".format(y_test.reshape(-1)))\n",
    "print(\"Predicted RHR: {}\".format(y_pred.reshape(-1).round(1)))\n",
    "print(\"MAE: {:.2f}\".format(mae))"
   ]
  },
  {
   "cell_type": "code",
   "execution_count": 84,
   "metadata": {},
   "outputs": [
    {
     "data": {
      "image/png": "[encoded data removed]",
      "text/plain": [
       "<Figure size 720x720 with 1 Axes>"
      ]
     },
     "metadata": {},
     "output_type": "display_data"
    }
   ],
   "source": [
    "# 推定値と実際の値の比較\n",
    "fig = plt.figure(figsize=(10,10))\n",
    "ax = fig.add_subplot(1,1,1)\n",
    "ax.scatter(x=y_test, y=y_pred, color='blue')\n",
    "xrange = np.linspace(np.min(y_pred.tolist() + y_test.tolist()), np.max(y_pred.tolist() + y_test.tolist()), 100)\n",
    "ax.plot(xrange, xrange, color='green')\n",
    "ax.set_title(\"$MAE$: {:.2f}\".format(mae), fontsize=30)\n",
    "ax.set_xlabel('True RHR', fontsize=20)\n",
    "ax.set_ylabel('Predicted RHR', fontsize=20)\n",
    "plt.tight_layout()\n",
    "plt.savefig(os.path.join(save_path, 'ex_compare_true_pred_RHR.png'))"
   ]
  },
  {
   "cell_type": "markdown",
   "metadata": {},
   "source": [
    "### Classification"
   ]
  },
  {
   "cell_type": "code",
   "execution_count": 115,
   "metadata": {},
   "outputs": [],
   "source": [
    "# 正解の体調決定\n",
    "threshold = np.median(df_analysis_data['RHR'])\n",
    "\n",
    "true_condition = copy.deepcopy(y_test)\n",
    "true_condition[true_condition<threshold] = 0\n",
    "true_condition[true_condition>=threshold] = 1\n",
    "\n",
    "pred_condition = copy.deepcopy(y_pred)\n",
    "pred_condition[pred_condition<threshold] = 0\n",
    "pred_condition[pred_condition>=threshold] = 1"
   ]
  },
  {
   "cell_type": "code",
   "execution_count": 113,
   "metadata": {},
   "outputs": [
    {
     "data": {
      "image/png": "[encoded data removed]",
      "text/plain": [
       "<Figure size 720x720 with 1 Axes>"
      ]
     },
     "metadata": {},
     "output_type": "display_data"
    }
   ],
   "source": [
    "# Confusion matrix\n",
    "fig = plt.figure(figsize=(10,10))\n",
    "ax = fig.add_subplot(1,1,1)\n",
    "conf_mat = confusion_matrix(true_condition, pred_condition)\n",
    "acc = accuracy_score(y_true=true_condition, y_pred=pred_condition)\n",
    "sns.heatmap(conf_mat, annot=True, cmap='Blues', cbar=False, annot_kws={\"size\":50})\n",
    "ax.set_title('Accuracy: {:.3f}'.format(acc), fontsize=30)\n",
    "ax.set_xlabel('Predicted RHR', fontsize=20)\n",
    "ax.set_ylabel('True RHR', fontsize=20)\n",
    "plt.tight_layout()\n",
    "plt.savefig(os.path.join(save_path, 'Confusion_matrix.png'))"
   ]
  },
  {
   "cell_type": "code",
   "execution_count": 116,
   "metadata": {},
   "outputs": [
    {
     "name": "stdout",
     "output_type": "stream",
     "text": [
      "              precision    recall  f1-score   support\n",
      "\n",
      "           0       0.50      1.00      0.67         2\n",
      "           1       1.00      0.50      0.67         4\n",
      "\n",
      "    accuracy                           0.67         6\n",
      "   macro avg       0.75      0.75      0.67         6\n",
      "weighted avg       0.83      0.67      0.67         6\n",
      "\n"
     ]
    }
   ],
   "source": [
    "# Classification Report\n",
    "print(classification_report(true_condition, pred_condition))"
   ]
  }
 ],
 "metadata": {
  "kernelspec": {
   "display_name": "Python 3",
   "language": "python",
   "name": "python3"
  },
  "language_info": {
   "codemirror_mode": {
    "name": "ipython",
    "version": 3
   },
   "file_extension": ".py",
   "mimetype": "text/x-python",
   "name": "python",
   "nbconvert_exporter": "python",
   "pygments_lexer": "ipython3",
   "version": "3.6.9"
  }
 },
 "nbformat": 4,
 "nbformat_minor": 2
}
